{
 "cells": [
  {
   "cell_type": "code",
   "execution_count": 1,
   "id": "11f2b766-1e65-476e-b19d-56d353aabf1b",
   "metadata": {},
   "outputs": [],
   "source": [
    "import numpy as np\n",
    "import pandas as pd\n",
    "import seaborn as sns\n",
    "import matplotlib.pyplot as plt\n",
    "\n",
    "from sklearn.model_selection import StratifiedGroupKFold, cross_val_score\n",
    "from sklearn.preprocessing import StandardScaler\n",
    "from sklearn.decomposition import PCA\n",
    "from sklearn.pipeline import Pipeline\n",
    "from sklearn.metrics import ndcg_score\n",
    "from xgboost import XGBRanker\n",
    "\n",
    "from tqdm import tqdm\n",
    "import optuna\n",
    "\n",
    "import warnings\n",
    "warnings.filterwarnings(\"ignore\")"
   ]
  },
  {
   "cell_type": "code",
   "execution_count": 2,
   "id": "74baf9e4-ddaf-4738-a9c8-d770e2b85681",
   "metadata": {},
   "outputs": [
    {
     "data": {
      "text/plain": [
       "True"
      ]
     },
     "execution_count": 2,
     "metadata": {},
     "output_type": "execute_result"
    }
   ],
   "source": [
    "data = pd.read_csv('intern_task.csv')\n",
    "data = data.drop(['feature_100', 'feature_72', 'feature_65', 'feature_64'], axis=1)\n",
    "seed = 42\n",
    "data = data.sort_values('query_id').reset_index(drop=True)\n",
    "X = data.drop(['rank', 'query_id'], axis=1)\n",
    "y = data['rank']\n",
    "qid = data['query_id']\n",
    "\n",
    "X_train, X_test = X.loc[:198159], X.loc[198160:]\n",
    "y_train, y_test = y.loc[:198159], y.loc[198160:]\n",
    "qid_train, qid_test = qid.loc[:198159], qid.loc[198160:]\n",
    "\n",
    "X_train.shape[0] + X_test.shape[0] == X.shape[0]"
   ]
  },
  {
   "cell_type": "code",
   "execution_count": 3,
   "id": "c894d7a0-03e7-4702-92e6-02d246123793",
   "metadata": {},
   "outputs": [],
   "source": [
    "def objective(trial):\n",
    "    param = {\n",
    "        \"n_estimators\": trial.suggest_int(\"n_estimators\", 500, 1000),\n",
    "        \"max_depth\": trial.suggest_int(\"max_depth\", 2, 8),\n",
    "        \"learning_rate\": trial.suggest_float(\"learning_rate\", 1e-3, 0.1, log=True),\n",
    "        \"reg_alpha\": trial.suggest_float(\"reg_alpha\", 1e-2, 0.1),\n",
    "        \"reg_lambda\": trial.suggest_float(\"reg_lambda\", 1e-2, 0.1),\n",
    "        \"lambdarank_num_pair_per_sample\": trial.suggest_int(\"lambdarank_num_pair_per_sample\", 4, 10),\n",
    "    }\n",
    "\n",
    "    ranker = XGBRanker(**param, tree_method=\"hist\", lambdarank_pair_method=\"topk\", objective=\"rank:ndcg\")\n",
    "    ranker.fit(X_train, y_train, qid=qid_train)\n",
    "    ndcg5 = ndcg_score(np.array([y_test]), np.array([ranker.predict(X_test)]), k=5)\n",
    "    \n",
    "    return ndcg5"
   ]
  },
  {
   "cell_type": "code",
   "execution_count": 4,
   "id": "3d03649c-6c21-441d-8220-3e00cc60e3e6",
   "metadata": {},
   "outputs": [
    {
     "name": "stderr",
     "output_type": "stream",
     "text": [
      "[I 2024-04-29 23:53:25,561] A new study created in memory with name: no-name-69bf0bb9-19a9-400b-8063-e3942deb069c\n",
      "[I 2024-04-29 23:53:47,252] Trial 0 finished with value: 0.8304198973631918 and parameters: {'n_estimators': 947, 'max_depth': 3, 'learning_rate': 0.026876505670976738, 'reg_alpha': 0.027153904223972264, 'reg_lambda': 0.015522210859609588, 'lambdarank_num_pair_per_sample': 8}. Best is trial 0 with value: 0.8304198973631918.\n",
      "[I 2024-04-29 23:54:08,449] Trial 1 finished with value: 0.5595495524699013 and parameters: {'n_estimators': 561, 'max_depth': 6, 'learning_rate': 0.0017247730380876049, 'reg_alpha': 0.09456922839495915, 'reg_lambda': 0.06092077019334283, 'lambdarank_num_pair_per_sample': 8}. Best is trial 0 with value: 0.8304198973631918.\n",
      "[I 2024-04-29 23:54:40,432] Trial 2 finished with value: 0.9576049743407978 and parameters: {'n_estimators': 703, 'max_depth': 7, 'learning_rate': 0.004407096817063037, 'reg_alpha': 0.06644545852369518, 'reg_lambda': 0.02780927202080285, 'lambdarank_num_pair_per_sample': 4}. Best is trial 2 with value: 0.9576049743407978.\n",
      "[I 2024-04-29 23:55:05,789] Trial 3 finished with value: 0.596896023890943 and parameters: {'n_estimators': 996, 'max_depth': 4, 'learning_rate': 0.0016994883230465586, 'reg_alpha': 0.04379276394496485, 'reg_lambda': 0.015110858084389507, 'lambdarank_num_pair_per_sample': 7}. Best is trial 2 with value: 0.9576049743407978.\n",
      "[I 2024-04-29 23:55:38,896] Trial 4 finished with value: 0.8458915918428338 and parameters: {'n_estimators': 894, 'max_depth': 6, 'learning_rate': 0.0016687433300818988, 'reg_alpha': 0.08027497818543561, 'reg_lambda': 0.065562133990492, 'lambdarank_num_pair_per_sample': 6}. Best is trial 2 with value: 0.9576049743407978.\n",
      "[I 2024-04-29 23:55:57,405] Trial 5 finished with value: 0.7880248717039898 and parameters: {'n_estimators': 698, 'max_depth': 5, 'learning_rate': 0.09606557280927515, 'reg_alpha': 0.017816508763212613, 'reg_lambda': 0.062082456636035364, 'lambdarank_num_pair_per_sample': 5}. Best is trial 2 with value: 0.9576049743407978.\n",
      "[I 2024-04-29 23:56:43,200] Trial 6 finished with value: 0.7658217906551301 and parameters: {'n_estimators': 962, 'max_depth': 7, 'learning_rate': 0.01992407148799886, 'reg_alpha': 0.07164996637594954, 'reg_lambda': 0.022358355208744025, 'lambdarank_num_pair_per_sample': 10}. Best is trial 2 with value: 0.9576049743407978.\n",
      "[I 2024-04-29 23:57:04,566] Trial 7 finished with value: 0.781293485134772 and parameters: {'n_estimators': 684, 'max_depth': 5, 'learning_rate': 0.002154673540605122, 'reg_alpha': 0.08246172707390949, 'reg_lambda': 0.014525153694711905, 'lambdarank_num_pair_per_sample': 8}. Best is trial 2 with value: 0.9576049743407978.\n",
      "[I 2024-04-29 23:57:18,268] Trial 8 finished with value: 0.8289121131198784 and parameters: {'n_estimators': 661, 'max_depth': 2, 'learning_rate': 0.030146607517500052, 'reg_alpha': 0.02342687336636032, 'reg_lambda': 0.011574157026388542, 'lambdarank_num_pair_per_sample': 8}. Best is trial 2 with value: 0.9576049743407978.\n",
      "[I 2024-04-29 23:57:36,933] Trial 9 finished with value: 0.7345283055203579 and parameters: {'n_estimators': 622, 'max_depth': 5, 'learning_rate': 0.04014966819307726, 'reg_alpha': 0.06424618463922968, 'reg_lambda': 0.04447275831134882, 'lambdarank_num_pair_per_sample': 6}. Best is trial 2 with value: 0.9576049743407978.\n"
     ]
    }
   ],
   "source": [
    "study = optuna.create_study(direction=\"maximize\")\n",
    "study.optimize(objective, n_trials=10, timeout=1000)"
   ]
  },
  {
   "cell_type": "code",
   "execution_count": 5,
   "id": "52bc6cdf-a2e6-483f-8b62-6572170421ed",
   "metadata": {},
   "outputs": [
    {
     "name": "stdout",
     "output_type": "stream",
     "text": [
      "Best hyperparameters: {'n_estimators': 703, 'max_depth': 7, 'learning_rate': 0.004407096817063037, 'reg_alpha': 0.06644545852369518, 'reg_lambda': 0.02780927202080285, 'lambdarank_num_pair_per_sample': 4}\n",
      "Best ndcg5: 0.9576049743407978\n"
     ]
    }
   ],
   "source": [
    "print('Best hyperparameters:', study.best_params)\n",
    "print('Best ndcg5:', study.best_value)"
   ]
  }
 ],
 "metadata": {
  "kernelspec": {
   "display_name": "Python 3 (ipykernel)",
   "language": "python",
   "name": "python3"
  },
  "language_info": {
   "codemirror_mode": {
    "name": "ipython",
    "version": 3
   },
   "file_extension": ".py",
   "mimetype": "text/x-python",
   "name": "python",
   "nbconvert_exporter": "python",
   "pygments_lexer": "ipython3",
   "version": "3.11.7"
  }
 },
 "nbformat": 4,
 "nbformat_minor": 5
}
