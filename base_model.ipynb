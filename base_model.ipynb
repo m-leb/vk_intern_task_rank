{
 "cells": [
  {
   "cell_type": "code",
   "execution_count": 1,
   "id": "dada08af-21e9-4e81-842a-3003593bd22b",
   "metadata": {},
   "outputs": [],
   "source": [
    "import numpy as np\n",
    "import pandas as pd\n",
    "import seaborn as sns\n",
    "import matplotlib.pyplot as plt\n",
    "\n",
    "from sklearn.model_selection import StratifiedGroupKFold, cross_val_score\n",
    "from sklearn.preprocessing import StandardScaler\n",
    "from sklearn.decomposition import PCA\n",
    "from sklearn.pipeline import Pipeline\n",
    "from sklearn.metrics import ndcg_score\n",
    "from xgboost import XGBRanker\n",
    "from catboost import CatBoostRanker, Pool"
   ]
  },
  {
   "cell_type": "code",
   "execution_count": 2,
   "id": "0e021827-8240-42cc-b8b3-6b63b1012808",
   "metadata": {},
   "outputs": [
    {
     "data": {
      "text/html": [
       "<div>\n",
       "<style scoped>\n",
       "    .dataframe tbody tr th:only-of-type {\n",
       "        vertical-align: middle;\n",
       "    }\n",
       "\n",
       "    .dataframe tbody tr th {\n",
       "        vertical-align: top;\n",
       "    }\n",
       "\n",
       "    .dataframe thead th {\n",
       "        text-align: right;\n",
       "    }\n",
       "</style>\n",
       "<table border=\"1\" class=\"dataframe\">\n",
       "  <thead>\n",
       "    <tr style=\"text-align: right;\">\n",
       "      <th></th>\n",
       "      <th>rank</th>\n",
       "      <th>query_id</th>\n",
       "      <th>feature_0</th>\n",
       "      <th>feature_1</th>\n",
       "      <th>feature_2</th>\n",
       "      <th>feature_3</th>\n",
       "      <th>feature_4</th>\n",
       "      <th>feature_5</th>\n",
       "      <th>feature_6</th>\n",
       "      <th>feature_7</th>\n",
       "      <th>...</th>\n",
       "      <th>feature_134</th>\n",
       "      <th>feature_135</th>\n",
       "      <th>feature_136</th>\n",
       "      <th>feature_137</th>\n",
       "      <th>feature_138</th>\n",
       "      <th>feature_139</th>\n",
       "      <th>feature_140</th>\n",
       "      <th>feature_141</th>\n",
       "      <th>feature_142</th>\n",
       "      <th>feature_143</th>\n",
       "    </tr>\n",
       "  </thead>\n",
       "  <tbody>\n",
       "    <tr>\n",
       "      <th>0</th>\n",
       "      <td>0</td>\n",
       "      <td>10</td>\n",
       "      <td>1.0</td>\n",
       "      <td>0.0</td>\n",
       "      <td>1.0</td>\n",
       "      <td>3.0</td>\n",
       "      <td>3.0</td>\n",
       "      <td>0.333333</td>\n",
       "      <td>0.0</td>\n",
       "      <td>0.333333</td>\n",
       "      <td>...</td>\n",
       "      <td>0.0</td>\n",
       "      <td>0.000000</td>\n",
       "      <td>0.454545</td>\n",
       "      <td>0.890238</td>\n",
       "      <td>8.655534</td>\n",
       "      <td>1.000000</td>\n",
       "      <td>0.077778</td>\n",
       "      <td>0.002222</td>\n",
       "      <td>1.0</td>\n",
       "      <td>0.333333</td>\n",
       "    </tr>\n",
       "    <tr>\n",
       "      <th>1</th>\n",
       "      <td>1</td>\n",
       "      <td>10</td>\n",
       "      <td>3.0</td>\n",
       "      <td>0.0</td>\n",
       "      <td>3.0</td>\n",
       "      <td>0.0</td>\n",
       "      <td>3.0</td>\n",
       "      <td>1.000000</td>\n",
       "      <td>0.0</td>\n",
       "      <td>1.000000</td>\n",
       "      <td>...</td>\n",
       "      <td>0.0</td>\n",
       "      <td>0.000000</td>\n",
       "      <td>0.000000</td>\n",
       "      <td>0.773976</td>\n",
       "      <td>23.130514</td>\n",
       "      <td>0.000000</td>\n",
       "      <td>0.027826</td>\n",
       "      <td>0.000430</td>\n",
       "      <td>44.0</td>\n",
       "      <td>14.666667</td>\n",
       "    </tr>\n",
       "    <tr>\n",
       "      <th>2</th>\n",
       "      <td>0</td>\n",
       "      <td>10</td>\n",
       "      <td>3.0</td>\n",
       "      <td>0.0</td>\n",
       "      <td>2.0</td>\n",
       "      <td>0.0</td>\n",
       "      <td>3.0</td>\n",
       "      <td>1.000000</td>\n",
       "      <td>0.0</td>\n",
       "      <td>0.666667</td>\n",
       "      <td>...</td>\n",
       "      <td>0.0</td>\n",
       "      <td>0.000000</td>\n",
       "      <td>0.000000</td>\n",
       "      <td>0.918308</td>\n",
       "      <td>13.351339</td>\n",
       "      <td>0.000000</td>\n",
       "      <td>0.014925</td>\n",
       "      <td>0.000104</td>\n",
       "      <td>22.0</td>\n",
       "      <td>7.333333</td>\n",
       "    </tr>\n",
       "    <tr>\n",
       "      <th>3</th>\n",
       "      <td>1</td>\n",
       "      <td>10</td>\n",
       "      <td>3.0</td>\n",
       "      <td>0.0</td>\n",
       "      <td>3.0</td>\n",
       "      <td>0.0</td>\n",
       "      <td>3.0</td>\n",
       "      <td>1.000000</td>\n",
       "      <td>0.0</td>\n",
       "      <td>1.000000</td>\n",
       "      <td>...</td>\n",
       "      <td>0.0</td>\n",
       "      <td>0.000000</td>\n",
       "      <td>0.000000</td>\n",
       "      <td>0.975355</td>\n",
       "      <td>18.240926</td>\n",
       "      <td>0.000000</td>\n",
       "      <td>0.053140</td>\n",
       "      <td>0.000255</td>\n",
       "      <td>8.0</td>\n",
       "      <td>2.666667</td>\n",
       "    </tr>\n",
       "    <tr>\n",
       "      <th>4</th>\n",
       "      <td>2</td>\n",
       "      <td>10</td>\n",
       "      <td>3.0</td>\n",
       "      <td>0.0</td>\n",
       "      <td>3.0</td>\n",
       "      <td>1.0</td>\n",
       "      <td>3.0</td>\n",
       "      <td>1.000000</td>\n",
       "      <td>0.0</td>\n",
       "      <td>1.000000</td>\n",
       "      <td>...</td>\n",
       "      <td>273.0</td>\n",
       "      <td>79.670665</td>\n",
       "      <td>0.200000</td>\n",
       "      <td>0.990119</td>\n",
       "      <td>31.786048</td>\n",
       "      <td>0.333333</td>\n",
       "      <td>0.046512</td>\n",
       "      <td>0.000307</td>\n",
       "      <td>24.0</td>\n",
       "      <td>8.000000</td>\n",
       "    </tr>\n",
       "  </tbody>\n",
       "</table>\n",
       "<p>5 rows × 142 columns</p>\n",
       "</div>"
      ],
      "text/plain": [
       "   rank  query_id  feature_0  feature_1  feature_2  feature_3  feature_4  \\\n",
       "0     0        10        1.0        0.0        1.0        3.0        3.0   \n",
       "1     1        10        3.0        0.0        3.0        0.0        3.0   \n",
       "2     0        10        3.0        0.0        2.0        0.0        3.0   \n",
       "3     1        10        3.0        0.0        3.0        0.0        3.0   \n",
       "4     2        10        3.0        0.0        3.0        1.0        3.0   \n",
       "\n",
       "   feature_5  feature_6  feature_7  ...  feature_134  feature_135  \\\n",
       "0   0.333333        0.0   0.333333  ...          0.0     0.000000   \n",
       "1   1.000000        0.0   1.000000  ...          0.0     0.000000   \n",
       "2   1.000000        0.0   0.666667  ...          0.0     0.000000   \n",
       "3   1.000000        0.0   1.000000  ...          0.0     0.000000   \n",
       "4   1.000000        0.0   1.000000  ...        273.0    79.670665   \n",
       "\n",
       "   feature_136  feature_137  feature_138  feature_139  feature_140  \\\n",
       "0     0.454545     0.890238     8.655534     1.000000     0.077778   \n",
       "1     0.000000     0.773976    23.130514     0.000000     0.027826   \n",
       "2     0.000000     0.918308    13.351339     0.000000     0.014925   \n",
       "3     0.000000     0.975355    18.240926     0.000000     0.053140   \n",
       "4     0.200000     0.990119    31.786048     0.333333     0.046512   \n",
       "\n",
       "   feature_141  feature_142  feature_143  \n",
       "0     0.002222          1.0     0.333333  \n",
       "1     0.000430         44.0    14.666667  \n",
       "2     0.000104         22.0     7.333333  \n",
       "3     0.000255          8.0     2.666667  \n",
       "4     0.000307         24.0     8.000000  \n",
       "\n",
       "[5 rows x 142 columns]"
      ]
     },
     "execution_count": 2,
     "metadata": {},
     "output_type": "execute_result"
    }
   ],
   "source": [
    "data = pd.read_csv('intern_task.csv')\n",
    "data = data.drop(['feature_100', 'feature_72', 'feature_65', 'feature_64'], axis=1)\n",
    "seed = 7\n",
    "\n",
    "data.head()"
   ]
  },
  {
   "cell_type": "code",
   "execution_count": 3,
   "id": "44b7d522-694d-48be-ac8f-428af451666e",
   "metadata": {},
   "outputs": [],
   "source": [
    "data = data.sort_values('query_id').reset_index(drop=True)\n",
    "X = data.drop(['rank', 'query_id'], axis=1)\n",
    "y = data['rank']\n",
    "qid = data['query_id']"
   ]
  },
  {
   "cell_type": "code",
   "execution_count": 4,
   "id": "63160085-f59d-4d23-8318-d059015ae601",
   "metadata": {},
   "outputs": [
    {
     "data": {
      "text/plain": [
       "(2000,)"
      ]
     },
     "execution_count": 4,
     "metadata": {},
     "output_type": "execute_result"
    }
   ],
   "source": [
    "qid.unique().shape"
   ]
  },
  {
   "cell_type": "markdown",
   "id": "bc1511e4-8bef-4362-b455-00655fbcf831",
   "metadata": {},
   "source": [
    "Обучать модель будем в соответствии с запросами, поэтому в тест отложим 20% запросов."
   ]
  },
  {
   "cell_type": "code",
   "execution_count": 5,
   "id": "8d564290-efc9-4ded-9ba3-77a5683edd1f",
   "metadata": {},
   "outputs": [
    {
     "data": {
      "text/plain": [
       "198160"
      ]
     },
     "execution_count": 5,
     "metadata": {},
     "output_type": "execute_result"
    }
   ],
   "source": [
    "qid[qid == qid.unique()[1600]].index[0]"
   ]
  },
  {
   "cell_type": "code",
   "execution_count": 6,
   "id": "b0674bb0-9078-401b-a632-b6b1865e0900",
   "metadata": {},
   "outputs": [
    {
     "data": {
      "text/plain": [
       "True"
      ]
     },
     "execution_count": 6,
     "metadata": {},
     "output_type": "execute_result"
    }
   ],
   "source": [
    "X_train, X_test = X.loc[:198159], X.loc[198160:]\n",
    "y_train, y_test = y.loc[:198159], y.loc[198160:]\n",
    "qid_train, qid_test = qid.loc[:198159], qid.loc[198160:]\n",
    "\n",
    "X_train.shape[0] + X_test.shape[0] == X.shape[0]"
   ]
  },
  {
   "cell_type": "markdown",
   "id": "37bb6bef-f66c-4b88-9e35-77ec5afbefa8",
   "metadata": {},
   "source": [
    "Построим pipeline: стандартизация обучающих данных, применение pca.\n",
    "\n",
    "Обучим модели на данных без манипуляций и на данных с таким pipeline и сравним метрики."
   ]
  },
  {
   "cell_type": "code",
   "execution_count": 7,
   "id": "c17f5a1e-7472-4e5d-972f-ec30a74f1806",
   "metadata": {},
   "outputs": [
    {
     "data": {
      "text/html": [
       "<div>\n",
       "<style scoped>\n",
       "    .dataframe tbody tr th:only-of-type {\n",
       "        vertical-align: middle;\n",
       "    }\n",
       "\n",
       "    .dataframe tbody tr th {\n",
       "        vertical-align: top;\n",
       "    }\n",
       "\n",
       "    .dataframe thead th {\n",
       "        text-align: right;\n",
       "    }\n",
       "</style>\n",
       "<table border=\"1\" class=\"dataframe\">\n",
       "  <thead>\n",
       "    <tr style=\"text-align: right;\">\n",
       "      <th></th>\n",
       "      <th>ranker</th>\n",
       "      <th>pipe</th>\n",
       "    </tr>\n",
       "  </thead>\n",
       "  <tbody>\n",
       "    <tr>\n",
       "      <th>0</th>\n",
       "      <td>0.745630</td>\n",
       "      <td>0.445499</td>\n",
       "    </tr>\n",
       "    <tr>\n",
       "      <th>1</th>\n",
       "      <td>0.893007</td>\n",
       "      <td>0.561583</td>\n",
       "    </tr>\n",
       "    <tr>\n",
       "      <th>2</th>\n",
       "      <td>1.000000</td>\n",
       "      <td>0.286517</td>\n",
       "    </tr>\n",
       "    <tr>\n",
       "      <th>3</th>\n",
       "      <td>0.776573</td>\n",
       "      <td>0.117264</td>\n",
       "    </tr>\n",
       "    <tr>\n",
       "      <th>4</th>\n",
       "      <td>0.967199</td>\n",
       "      <td>0.292395</td>\n",
       "    </tr>\n",
       "  </tbody>\n",
       "</table>\n",
       "</div>"
      ],
      "text/plain": [
       "     ranker      pipe\n",
       "0  0.745630  0.445499\n",
       "1  0.893007  0.561583\n",
       "2  1.000000  0.286517\n",
       "3  0.776573  0.117264\n",
       "4  0.967199  0.292395"
      ]
     },
     "execution_count": 7,
     "metadata": {},
     "output_type": "execute_result"
    }
   ],
   "source": [
    "kfold = StratifiedGroupKFold(shuffle=False)\n",
    "ranker_scores = []\n",
    "pipe_scores = []\n",
    "\n",
    "for train_index, valid_index in kfold.split(X_train, y_train, groups=qid_train):\n",
    "    X_train_, X_valid_ = X_train.iloc[train_index], X_train.iloc[valid_index]\n",
    "    y_train_, y_valid_ = y_train.iloc[train_index], y_train.iloc[valid_index]\n",
    "\n",
    "    ranker = XGBRanker(tree_method=\"hist\",\n",
    "                       lambdarank_num_pair_per_sample=8,\n",
    "                       objective=\"rank:ndcg\",\n",
    "                       lambdarank_pair_method=\"topk\")\n",
    "    \n",
    "    ranker.fit(X_train_, y_train_, qid=qid.iloc[train_index])\n",
    "    y_pred = ranker.predict(X_valid_)\n",
    "    score = ndcg_score(np.array([y_valid_]), np.array([y_pred]), k=5)\n",
    "    ranker_scores.append(score)\n",
    "\n",
    "for train_index, valid_index in kfold.split(X_train, y_train, groups=qid_train):\n",
    "    X_train_, X_valid_ = X_train.iloc[train_index], X_train.iloc[valid_index]\n",
    "    y_train_, y_valid_ = y_train.iloc[train_index], y_train.iloc[valid_index]\n",
    "\n",
    "    pipe = Pipeline([\n",
    "        ('scaler', StandardScaler()),\n",
    "        ('pca', PCA(n_components=10)),\n",
    "    ])\n",
    "\n",
    "    ranker = XGBRanker(tree_method=\"hist\",\n",
    "                       lambdarank_num_pair_per_sample=8,\n",
    "                       objective=\"rank:ndcg\",\n",
    "                       lambdarank_pair_method=\"topk\")\n",
    "    \n",
    "    ranker.fit(pipe.fit_transform(X_train_), y_train_, qid=qid.iloc[train_index])\n",
    "    y_pred = ranker.predict(pipe.transform(X_valid_))\n",
    "    score = ndcg_score(np.array([y_valid_]), np.array([y_pred]), k=5)\n",
    "    pipe_scores.append(score)\n",
    "\n",
    "scores = pd.DataFrame({\n",
    "    'ranker': ranker_scores,\n",
    "    'pipe': pipe_scores\n",
    "})\n",
    "\n",
    "scores"
   ]
  },
  {
   "cell_type": "markdown",
   "id": "784387b0-6ef0-489c-ac85-e0dc65620cff",
   "metadata": {},
   "source": [
    "Хотя данные и казались сильно скоррелированными, очевидно серьезное ухудшение качества при уменьшении признакового простраства, а значит модель извлекает информацию из сжимаемых признаков и предложенный вариант обработки данных не годится."
   ]
  },
  {
   "cell_type": "code",
   "execution_count": 8,
   "id": "45c62a17-160b-4124-861c-0070d82acc9c",
   "metadata": {},
   "outputs": [
    {
     "data": {
      "text/plain": [
       "0.876481735860702"
      ]
     },
     "execution_count": 8,
     "metadata": {},
     "output_type": "execute_result"
    }
   ],
   "source": [
    "scores['ranker'].mean()"
   ]
  },
  {
   "cell_type": "code",
   "execution_count": 9,
   "id": "9a26d976-b69b-44bf-927e-e0f360714f77",
   "metadata": {},
   "outputs": [
    {
     "name": "stdout",
     "output_type": "stream",
     "text": [
      "0:\ttest: 0.7071959\tbest: 0.7071959 (0)\ttotal: 527ms\tremaining: 8m 46s\n",
      "100:\ttest: 0.7872009\tbest: 0.7874355 (99)\ttotal: 33s\tremaining: 4m 53s\n",
      "200:\ttest: 0.7944766\tbest: 0.7944766 (200)\ttotal: 1m 5s\tremaining: 4m 21s\n",
      "300:\ttest: 0.7981836\tbest: 0.7982369 (299)\ttotal: 1m 45s\tremaining: 4m 4s\n",
      "400:\ttest: 0.8000010\tbest: 0.8000275 (398)\ttotal: 2m 30s\tremaining: 3m 44s\n",
      "500:\ttest: 0.7995446\tbest: 0.8003527 (413)\ttotal: 3m 13s\tremaining: 3m 12s\n",
      "600:\ttest: 0.7998918\tbest: 0.8003527 (413)\ttotal: 3m 58s\tremaining: 2m 38s\n",
      "700:\ttest: 0.8012404\tbest: 0.8014414 (696)\ttotal: 4m 42s\tremaining: 2m\n",
      "800:\ttest: 0.8007861\tbest: 0.8017564 (707)\ttotal: 5m 26s\tremaining: 1m 21s\n",
      "900:\ttest: 0.8012802\tbest: 0.8017564 (707)\ttotal: 6m 11s\tremaining: 40.8s\n",
      "999:\ttest: 0.8014876\tbest: 0.8018232 (961)\ttotal: 6m 55s\tremaining: 0us\n",
      "\n",
      "bestTest = 0.8018231765\n",
      "bestIteration = 961\n",
      "\n",
      "Shrink model to first 962 iterations.\n"
     ]
    },
    {
     "data": {
      "text/plain": [
       "<catboost.core.CatBoostRanker at 0x1b3f1ed4d90>"
      ]
     },
     "execution_count": 9,
     "metadata": {},
     "output_type": "execute_result"
    }
   ],
   "source": [
    "train_pool = Pool(data=X_train, label=y_train, group_id=qid_train)\n",
    "test_pool = Pool(data=X_test, label=y_test, group_id=qid_test)\n",
    "    \n",
    "cb = CatBoostRanker()\n",
    "    \n",
    "cb.fit(train_pool, eval_set=test_pool, verbose=100)"
   ]
  },
  {
   "cell_type": "code",
   "execution_count": 10,
   "id": "39eacfdf-90ac-4909-bbd8-0f88b00685cf",
   "metadata": {},
   "outputs": [
    {
     "data": {
      "text/plain": [
       "0.7076049743407979"
      ]
     },
     "execution_count": 10,
     "metadata": {},
     "output_type": "execute_result"
    }
   ],
   "source": [
    "xgb = XGBRanker(tree_method=\"hist\",\n",
    "                lambdarank_num_pair_per_sample=8,\n",
    "                objective=\"rank:ndcg\",\n",
    "                lambdarank_pair_method=\"topk\")\n",
    "\n",
    "xgb.fit(X_train, y_train, qid=qid_train)\n",
    "ndcg_score(np.array([y_test]), np.array([xgb.predict(X_test)]), k=5)"
   ]
  },
  {
   "cell_type": "code",
   "execution_count": 11,
   "id": "a3ad77f9-1157-4748-a1db-e79b0199bf0b",
   "metadata": {},
   "outputs": [
    {
     "data": {
      "text/plain": [
       "0.7939028099025153"
      ]
     },
     "execution_count": 11,
     "metadata": {},
     "output_type": "execute_result"
    }
   ],
   "source": [
    "ndcg_score(np.array([y_test]), np.array([cb.predict(X_test)]), k=5)"
   ]
  },
  {
   "cell_type": "markdown",
   "id": "b16ed48f-6d3b-4f64-a260-e1a6fc91246a",
   "metadata": {},
   "source": [
    "Делаем выбор в пользу XGBoost. Подберем параметры с помощь optuna\n",
    "\n",
    "UPD: при перезапуске ноутбука catboost показал лучшие результаты) надо было фиксировать seed"
   ]
  }
 ],
 "metadata": {
  "kernelspec": {
   "display_name": "Python 3 (ipykernel)",
   "language": "python",
   "name": "python3"
  },
  "language_info": {
   "codemirror_mode": {
    "name": "ipython",
    "version": 3
   },
   "file_extension": ".py",
   "mimetype": "text/x-python",
   "name": "python",
   "nbconvert_exporter": "python",
   "pygments_lexer": "ipython3",
   "version": "3.11.7"
  }
 },
 "nbformat": 4,
 "nbformat_minor": 5
}
